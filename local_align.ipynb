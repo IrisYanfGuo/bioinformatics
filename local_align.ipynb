{
 "cells": [
  {
   "cell_type": "markdown",
   "metadata": {},
   "source": [
    "# Local Alignment\n",
    "Name: Yanfang Guo\n",
    "Department : MACS\n",
    "Email: Yanfang.Guo@vub.be"
   ]
  },
  {
   "cell_type": "markdown",
   "metadata": {},
   "source": [
    "## Read the data and initialize it.\n",
    "The job is actually the same as global alignment, so I will skip the explaination of this part"
   ]
  },
  {
   "cell_type": "code",
   "execution_count": 30,
   "metadata": {
    "collapsed": false
   },
   "outputs": [],
   "source": [
    "from Matrix import *\n",
    "from read_fasta import *\n",
    "E = -4\n",
    "I = -6 # affine gap\n",
    "seq_list = read_fasta(\"protein-sequences.fasta\")\n",
    "seq_list2 = read_fasta(\"WW-sequence.fasta\")\n",
    "\n",
    "mat1 = Matrix(\"BLOSUM62.txt\")\n"
   ]
  },
  {
   "cell_type": "markdown",
   "metadata": {},
   "source": [
    "The slen1 and slen2 are the length of the seq1 and seq2"
   ]
  },
  {
   "cell_type": "code",
   "execution_count": 31,
   "metadata": {
    "collapsed": false
   },
   "outputs": [
    {
     "name": "stdout",
     "output_type": "stream",
     "text": [
      "MDPGQQPPPQPAPQGQGQPPSQPPQGQGPPSGPGQPAPAATQAAPQAPPAGHQIVHVRGDSETDLEALFNAVMNPKTANVPQTVPMRLRKLPDSFFKPPEPKSHSRQASTDAGTAGALTPQHVRAHSSPASLQLGAVSPGTLTPTGVVSGPAATPTAQHLRQSSFEIPDDVPLPAGWEMAKTSSGQRYFLNHIDQTTTWQDPRKAMLSQMNVTAPTSPPVQQNMMNSASGPLPDGWEQAMTQDGEIYYINHKNKTTSWLDPRLDPRFAMNQRISQSAPVKQPPPLAPQSPQGGVMGGSNSNQQQQMRLQQLQMEKERLRLKQQELLRQAMRNINPSTANSPKCQELALRSQLPTLEQDGGTQNPVSSPGMSQELRTMTTNSSDPFLNSGTYHSRDESTDSGLSMSSYSVPRTPDDFLNSVDEMDTGDTINQSTLPSQQNRFPDYLEAIPGTNVDLGTLEGDGMNIEGEELMPSLQEALSSDILNDMESVLAATKLDKESFLTWL\n",
      "VPLPAGWEMAKTSSGQRYFLNHIDQTTTWQDPRK\n"
     ]
    }
   ],
   "source": [
    "seq1 =seq_list[0]\n",
    "seq2= seq_list2[0]\n",
    "slen1 = len(seq1)\n",
    "slen2 = len(seq2)\n",
    "print(seq1)\n",
    "print(seq2)"
   ]
  },
  {
   "cell_type": "markdown",
   "metadata": {},
   "source": [
    "## Initialize the score_mat and direc_mat\n",
    "- This part is very similar to that in global alignment\n",
    "- the values in first row and column of the score_mat are set to 0"
   ]
  },
  {
   "cell_type": "code",
   "execution_count": 32,
   "metadata": {
    "collapsed": true
   },
   "outputs": [],
   "source": [
    "score_mat = []\n",
    "direc_mat = []\n",
    "for i in range(len(seq1) + 1):\n",
    "    direc_mat.append([[0, 0, 0,I,I] for i in range(len(seq2) + 1)])\n",
    "\n",
    "for i in range(len(seq1) + 1):\n",
    "    score_mat.append([0 for i in range(len(seq2) + 1)])\n",
    "\n",
    "\n",
    "def print_mat2(alist):\n",
    "    for i in alist:\n",
    "        for j in i:\n",
    "            print('{0:4d}'.format(j), end=\" \")\n",
    "        print()\n",
    "\n",
    "\n",
    "def print_mat3(alist,n=3):\n",
    "    for i in alist:\n",
    "        for j in i:\n",
    "            print(j[0:n],end='')\n",
    "        print()"
   ]
  },
  {
   "cell_type": "markdown",
   "metadata": {},
   "source": [
    "## Calculate the Score according to the formula\n",
    "![](https://ww2.sinaimg.cn/large/006tNbRwgy1fdo45gbte9j30hq06ydgm.jpg)"
   ]
  },
  {
   "cell_type": "code",
   "execution_count": 33,
   "metadata": {
    "collapsed": true
   },
   "outputs": [],
   "source": [
    "def local_score(mat):\n",
    "    for i in range(1, len(seq1) + 1):\n",
    "        for j in range(1, len(seq2) + 1):\n",
    "\n",
    "            t1 = score_mat[i - 1][j - 1] + mat.get(seq1[i - 1], seq2[j - 1])\n",
    "\n",
    "\n",
    "            t2 =score_mat[i][j-1] +direc_mat[i][j-1][4]\n",
    "\n",
    "\n",
    "\n",
    "            t3 = score_mat[i-1][j] + direc_mat[i-1][j][3]\n",
    "\n",
    "\n",
    "\n",
    "            max_score = max(t1, t2, t3, 0)\n",
    "            score_mat[i][j] = max_score\n",
    "\n",
    "            if max_score > 0:\n",
    "                if max_score == t1:\n",
    "                    direc_mat[i][j][2] = 1\n",
    "\n",
    "\n",
    "                elif max_score == t2:\n",
    "                    # horizental\n",
    "                    direc_mat[i][j][1]=1\n",
    "                    direc_mat[i][j][4]=E\n",
    "                else:\n",
    "                    # vertical, seq1 has a gap\n",
    "                    direc_mat[i][j][0]=1\n",
    "                    direc_mat[i][j][3] = E"
   ]
  },
  {
   "cell_type": "markdown",
   "metadata": {},
   "source": [
    "There are two functions called print_pathpair() and recal() below. They are both used in the traceback function\n",
    "- print_pathpair() use to print the path in a more formative way\n"
   ]
  },
  {
   "cell_type": "code",
   "execution_count": 34,
   "metadata": {
    "collapsed": true
   },
   "outputs": [],
   "source": [
    "def print_pathpair(alist):\n",
    "    for path in alist:\n",
    "        mark1=[]\n",
    "        mark2=[]\n",
    "        for i in range(len(path[0])):\n",
    "            if path[0][i]!='-' and path[1][i]!='-':\n",
    "                if path[0][i] == path[1][i]:\n",
    "                    mark1.append(':')\n",
    "\n",
    "                elif mat1.get(path[0][i],path[1][i])>0:\n",
    "                    mark1.append('.')\n",
    "\n",
    "                else:\n",
    "                    mark1.append(' ')\n",
    "\n",
    "            else:\n",
    "                mark1.append(' ')\n",
    "\n",
    "\n",
    "        path_u = ''.join(path[0])\n",
    "        path_m = ''.join(mark1)\n",
    "\n",
    "\n",
    "        path_d = ''.join(path[1])\n",
    "\n",
    "\n",
    "        print(path_u)\n",
    "        print(path_m)\n",
    "        print(path_d)"
   ]
  },
  {
   "cell_type": "markdown",
   "metadata": {},
   "source": [
    " ## recal()\n",
    " recal(), this function do the recalculation after we find the path.\n",
    "    1. first the traceback function will store the coordinates of the path node in a list\n",
    "    2. then for each pair of coordinates , do the recalculation in a recursive way."
   ]
  },
  {
   "cell_type": "code",
   "execution_count": 35,
   "metadata": {
    "collapsed": true
   },
   "outputs": [],
   "source": [
    "def recal(i,j,mat=mat1):\n",
    "    score_mat[i][j] = 0\n",
    "    if i< len(seq1) and j <len(seq2):\n",
    "        if direc_mat[i+1][j][0]==0 and direc_mat[i][j+1][1]==0 and direc_mat[i+1][j+1][2]==0:\n",
    "            return\n",
    "    if i< len(seq1):\n",
    "        i = i+1\n",
    "        if direc_mat[i][j][0]==1:\n",
    "            # do recalculate\n",
    "            t1 = score_mat[i - 1][j - 1] + mat.get(seq1[i - 1], seq2[j - 1])\n",
    "            # [s(i,j-n(gap)+g(gap]\n",
    "\n",
    "            t2 = score_mat[i][j - 1] + direc_mat[i][j - 1][4]\n",
    "\n",
    "            t3 = score_mat[i - 1][j] + direc_mat[i - 1][j][3]\n",
    "\n",
    "            max_score = max(t1, t2, t3, 0)\n",
    "            score_mat[i][j] = max_score\n",
    "\n",
    "            if max_score > 0:\n",
    "                if max_score == t1:\n",
    "                    direc_mat[i][j][2] = 1\n",
    "                    direc_mat[i][j][4] = E\n",
    "\n",
    "                elif max_score == t2:\n",
    "                    # horizental\n",
    "                    direc_mat[i][j][1] = 1\n",
    "                    direc_mat[i][j][3] = E\n",
    "                else:\n",
    "                    # vertical, seq1 has a gap\n",
    "                    direc_mat[i][j][0] = 1\n",
    "            recal(i,j)\n",
    "\n",
    "\n",
    "        i = i-1\n",
    "\n",
    "    if j < len(seq2):\n",
    "        j = j+1\n",
    "        if direc_mat[i][j][1] ==1:\n",
    "            t1 = score_mat[i - 1][j - 1] + mat.get(seq1[i - 1], seq2[j - 1])\n",
    "\n",
    "            # [s(i,j-n(gap)+g(gap]\n",
    "\n",
    "            t2 = score_mat[i][j - 1] + direc_mat[i][j - 1][4]\n",
    "\n",
    "            t3 = score_mat[i - 1][j] + direc_mat[i - 1][j][3]\n",
    "\n",
    "            max_score = max(t1, t2, t3, 0)\n",
    "            score_mat[i][j] = max_score\n",
    "\n",
    "            if max_score > 0:\n",
    "                if max_score == t1:\n",
    "                    direc_mat[i][j][2] = 1\n",
    "                    direc_mat[i][j][4] = E\n",
    "\n",
    "                elif max_score == t2:\n",
    "                    # horizental\n",
    "                    direc_mat[i][j][1] = 1\n",
    "                    direc_mat[i][j][3] = E\n",
    "                else:\n",
    "                    # vertical, seq1 has a gap\n",
    "                    direc_mat[i][j][0] = 1\n",
    "            recal(i, j)\n",
    "        j = j-1\n",
    "\n",
    "    if i<len(seq1) and j<len(seq2):\n",
    "        i = i+1\n",
    "        j = j+1\n",
    "        if direc_mat[i][j][2] ==1:\n",
    "            t1 = score_mat[i - 1][j - 1] + mat.get(seq1[i - 1], seq2[j - 1])\n",
    "\n",
    "            # [s(i,j-n(gap)+g(gap]\n",
    "\n",
    "            t2 = score_mat[i][j - 1] + direc_mat[i][j - 1][4]\n",
    "\n",
    "            t3 = score_mat[i - 1][j] + direc_mat[i - 1][j][3]\n",
    "\n",
    "            max_score = max(t1, t2, t3, 0)\n",
    "            score_mat[i][j] = max_score\n",
    "\n",
    "            if max_score > 0:\n",
    "                if max_score == t1:\n",
    "                    direc_mat[i][j][2] = 1\n",
    "                    direc_mat[i][j][4] = E\n",
    "\n",
    "                elif max_score == t2:\n",
    "                    # horizental\n",
    "                    direc_mat[i][j][1] = 1\n",
    "                    direc_mat[i][j][3] = E\n",
    "                else:\n",
    "                    # vertical, seq1 has a gap\n",
    "                    direc_mat[i][j][0] = 1\n",
    "            recal(i, j)\n",
    "\n",
    "\n",
    "        i = i -1\n",
    "        j = j -1"
   ]
  },
  {
   "cell_type": "markdown",
   "metadata": {},
   "source": [
    "## Local Trace\n",
    "1. the parameter is the maxmum amount of multiple paths\n",
    "2. how to work\n",
    "   1. find the largest score in the score_mat\n",
    "   2. do traceback\n",
    "   3. for all the path node, do recalculation\n"
   ]
  },
  {
   "cell_type": "code",
   "execution_count": 36,
   "metadata": {
    "collapsed": true
   },
   "outputs": [],
   "source": [
    "def local_trace(k=3):\n",
    "    # find the largest position(i,j)\n",
    "    row_large =[]\n",
    "    for i in range(len(score_mat)):\n",
    "        row_max = max(score_mat[i])\n",
    "        index = score_mat[i].index(row_max)\n",
    "        row_large.append([row_max,index])\n",
    "\n",
    "    t = [row_large[i][0] for i in range(len(row_large))]\n",
    "    max_score = max(t)\n",
    "    i = t.index(max_score)\n",
    "    j = row_large[i][1]\n",
    "\n",
    "    print(\"the cordinate of the starting cordinate:\",i,j)\n",
    "\n",
    "    # i,j is the index of the largest element\n",
    "\n",
    "    path_pair = []\n",
    "    path_up = []\n",
    "    path_down = []\n",
    "\n",
    "\n",
    "    queue = []\n",
    "    queue.append([path_up[0:len(path_up)], path_down[0:len(path_down)], i, j])\n",
    "\n",
    "    recal_pair=[]\n",
    "\n",
    "    print(\"score=\",score_mat[i][j])\n",
    "    while (len(queue) > 0):\n",
    "        t = queue.pop(0)\n",
    "        i = t[2]\n",
    "        j = t[3]\n",
    "        path_up = t[0]\n",
    "        path_down = t[1]\n",
    "\n",
    "        if score_mat[i][j] == 0:\n",
    "            path_pair.append([path_up,path_down])\n",
    "        # scan all possible path and append it to the queue\n",
    "        else:\n",
    "            if direc_mat[i][j][0] == 1:\n",
    "                path_up.insert(0, '-')\n",
    "                j = j - 1\n",
    "\n",
    "                path_down.insert(0, seq2[j])\n",
    "                recal_pair.append([i,j])\n",
    "                if len(queue) < k:\n",
    "                    queue.append([path_up[0:len(path_up)], path_down[0:len(path_down)], i, j])\n",
    "                path_up = path_up[1:]\n",
    "                path_down = path_down[1:]\n",
    "                j = j + 1\n",
    "            if direc_mat[i][j][1] == 1:\n",
    "                path_down.insert(0, '-')\n",
    "                i = i - 1\n",
    "                path_up.insert(0, seq1[i])\n",
    "                recal_pair.append([i,j])\n",
    "                if len(queue) < k:\n",
    "                    queue.append([path_up[0:len(path_up)], path_down[0:len(path_down)], i, j])\n",
    "                i = i + 1\n",
    "                path_up = path_up[1:]\n",
    "                path_down = path_down[1:]\n",
    "\n",
    "            if direc_mat[i][j][2] == 1:\n",
    "                i = i - 1\n",
    "                j = j - 1\n",
    "                path_up.insert(0, seq1[i])\n",
    "                path_down.insert(0, seq2[j])\n",
    "                recal_pair.append([i,j])\n",
    "                if len(queue) < k:\n",
    "                    queue.append([path_up[0:len(path_up)], path_down[0:len(path_down)], i, j])\n",
    "                i = i + 1\n",
    "                j = j + 1\n",
    "                path_up = path_up[1:]\n",
    "                path_down = path_down[1:]\n",
    "\n",
    "        print_pathpair(path_pair)\n",
    "\n",
    "# print(\"recal_pair:\",recal_pair)\n",
    "\n",
    "    for k in range(len(recal_pair)-1,-1,-1):\n",
    "        t=recal_pair[k]\n",
    "        recal(recal_pair[k][0],recal_pair[k][1])\n",
    "        \n"
   ]
  },
  {
   "cell_type": "code",
   "execution_count": 37,
   "metadata": {
    "collapsed": true
   },
   "outputs": [],
   "source": [
    "# this function is a encapsulation of the local_trace(K)\n",
    "# the first parameter n specify how many local alignment that would like to find, the K is the maximum multiple subpath.\n",
    "def multi_local_trace(n,k):\n",
    "    for i in range(n):\n",
    "        local_trace(k)"
   ]
  },
  {
   "cell_type": "code",
   "execution_count": 38,
   "metadata": {
    "collapsed": true
   },
   "outputs": [],
   "source": [
    "local_score(mat1)"
   ]
  },
  {
   "cell_type": "code",
   "execution_count": 39,
   "metadata": {
    "collapsed": false
   },
   "outputs": [
    {
     "name": "stdout",
     "output_type": "stream",
     "text": [
      "the cordinate of the starting cordinate: 204 34\n",
      "score= 191\n",
      "VPLPAGWEMAKTSSGQRYFLNHIDQTTTWQDPRK\n",
      "::::::::::::::::::::::::::::::::::\n",
      "VPLPAGWEMAKTSSGQRYFLNHIDQTTTWQDPRK\n",
      "the cordinate of the starting cordinate: 262 33\n",
      "score= 114\n",
      "PLPDGWEQAMTQDGEIYYINHKNKTTSWLDPR\n",
      "::: ::: : :  :. :..:: ..::.: :::\n",
      "PLPAGWEMAKTSSGQRYFLNHIDQTTTWQDPR\n",
      "the cordinate of the starting cordinate: 425 28\n",
      "score= 29\n",
      "FLNSVDEMDT\n",
      "::: .:.  :\n",
      "FLNHIDQTTT\n"
     ]
    }
   ],
   "source": [
    "multi_local_trace(3,4)"
   ]
  },
  {
   "cell_type": "markdown",
   "metadata": {
    "collapsed": true
   },
   "source": [
    "![](https://ww2.sinaimg.cn/large/006tNbRwgy1fdo4v0i5l3j30zc0oyjvt.jpg)\n",
    "\n",
    "The result is the same with that in [LALIGN](http://embnet.vital-it.ch/software/LALIGN_form.html)"
   ]
  },
  {
   "cell_type": "code",
   "execution_count": null,
   "metadata": {
    "collapsed": true
   },
   "outputs": [],
   "source": []
  }
 ],
 "metadata": {
  "kernelspec": {
   "display_name": "Python 3",
   "language": "python",
   "name": "python3"
  },
  "language_info": {
   "codemirror_mode": {
    "name": "ipython",
    "version": 3
   },
   "file_extension": ".py",
   "mimetype": "text/x-python",
   "name": "python",
   "nbconvert_exporter": "python",
   "pygments_lexer": "ipython3",
   "version": "3.6.0"
  }
 },
 "nbformat": 4,
 "nbformat_minor": 0
}
