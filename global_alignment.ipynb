{
 "cells": [
  {
   "cell_type": "markdown",
   "metadata": {
    "collapsed": true
   },
   "source": [
    "# Global Alignment\n",
    "\n",
    "Name: Yanfang Guo           \n",
    "Department : MACS       \n",
    "Email: Yanfang.Guo@vub.be         \n",
    "\n"
   ]
  },
  {
   "cell_type": "markdown",
   "metadata": {},
   "source": [
    "## Using Matrix to represent the BLOSOM matrix"
   ]
  },
  {
   "cell_type": "code",
   "execution_count": 1,
   "metadata": {
    "collapsed": false
   },
   "outputs": [
    {
     "name": "stdout",
     "output_type": "stream",
     "text": [
      "  4 -1 -2 -2  0 -1 -1  0 -2 -1 -1 -1 -1 -2 -1  1  0 -3 -2  0 -2 -1  0 -4\n",
      " -1  5  0 -2 -3  1  0 -2  0 -3 -2  2 -1 -3 -2 -1 -1 -3 -2 -3 -1  0 -1 -4\n",
      " -2  0  6  1 -3  0  0  0  1 -3 -3  0 -2 -3 -2  1  0 -4 -2 -3  3  0 -1 -4\n",
      " -2 -2  1  6 -3  0  2 -1 -1 -3 -4 -1 -3 -3 -1  0 -1 -4 -3 -3  4  1 -1 -4\n",
      "  0 -3 -3 -3  9 -3 -4 -3 -3 -1 -1 -3 -1 -2 -3 -1 -1 -2 -2 -1 -3 -3 -2 -4\n",
      " -1  1  0  0 -3  5  2 -2  0 -3 -2  1  0 -3 -1  0 -1 -2 -1 -2  0  3 -1 -4\n",
      " -1  0  0  2 -4  2  5 -2  0 -3 -3  1 -2 -3 -1  0 -1 -3 -2 -2  1  4 -1 -4\n",
      "  0 -2  0 -1 -3 -2 -2  6 -2 -4 -4 -2 -3 -3 -2  0 -2 -2 -3 -3 -1 -2 -1 -4\n",
      " -2  0  1 -1 -3  0  0 -2  8 -3 -3 -1 -2 -1 -2 -1 -2 -2  2 -3  0  0 -1 -4\n",
      " -1 -3 -3 -3 -1 -3 -3 -4 -3  4  2 -3  1  0 -3 -2 -1 -3 -1  3 -3 -3 -1 -4\n",
      " -1 -2 -3 -4 -1 -2 -3 -4 -3  2  4 -2  2  0 -3 -2 -1 -2 -1  1 -4 -3 -1 -4\n",
      " -1  2  0 -1 -3  1  1 -2 -1 -3 -2  5 -1 -3 -1  0 -1 -3 -2 -2  0  1 -1 -4\n",
      " -1 -1 -2 -3 -1  0 -2 -3 -2  1  2 -1  5  0 -2 -1 -1 -1 -1  1 -3 -1 -1 -4\n",
      " -2 -3 -3 -3 -2 -3 -3 -3 -1  0  0 -3  0  6 -4 -2 -2  1  3 -1 -3 -3 -1 -4\n",
      " -1 -2 -2 -1 -3 -1 -1 -2 -2 -3 -3 -1 -2 -4  7 -1 -1 -4 -3 -2 -2 -1 -2 -4\n",
      "  1 -1  1  0 -1  0  0  0 -1 -2 -2  0 -1 -2 -1  4  1 -3 -2 -2  0  0  0 -4\n",
      "  0 -1  0 -1 -1 -1 -1 -2 -2 -1 -1 -1 -1 -2 -1  1  5 -2 -2  0 -1 -1  0 -4\n",
      " -3 -3 -4 -4 -2 -2 -3 -2 -2 -3 -2 -3 -1  1 -4 -3 -2 11  2 -3 -4 -3 -2 -4\n",
      " -2 -2 -2 -3 -2 -1 -2 -3  2 -1 -1 -2 -1  3 -3 -2 -2  2  7 -1 -3 -2 -1 -4\n",
      "  0 -3 -3 -3 -1 -2 -2 -3 -3  3  1 -2  1 -1 -2 -2  0 -3 -1  4 -3 -2 -1 -4\n",
      " -2 -1  3  4 -3  0  1 -1  0 -3 -4  0 -3 -3 -2  0 -1 -4 -3 -3  4  1 -1 -4\n",
      " -1  0  0  1 -3  3  4 -2  0 -3 -3  1 -1 -3 -1  0 -1 -3 -2 -2  1  4 -1 -4\n",
      "  0 -1 -1 -1 -2 -1 -1 -1 -1 -1 -1 -1 -1 -1 -2  0  0 -2 -1 -1 -1 -1 -1 -4\n",
      " -4 -4 -4 -4 -4 -4 -4 -4 -4 -4 -4 -4 -4 -4 -4 -4 -4 -4 -4 -4 -4 -4 -4  1\n"
     ]
    }
   ],
   "source": [
    "class Matrix(object):\n",
    "    def __init__(self,file):\n",
    "        f = open(file)\n",
    "        self.matrix ={}\n",
    "        # c is the name of the column\n",
    "        c = f.readline().split()\n",
    "        for i in f:\n",
    "            r = i.split()\n",
    "            rowname = r.pop(0)\n",
    "            t = {}\n",
    "            for j in range(len(c)):\n",
    "                t[c[j]] = int(r[j])\n",
    "            self.matrix[rowname] = t\n",
    "\n",
    "    def get(self,row,col):\n",
    "        return self.matrix[row][col]\n",
    "\n",
    "    def print(self):\n",
    "        for key in self.matrix:\n",
    "            for key2 in self.matrix[key]:\n",
    "\n",
    "                print(\"{0:3d}\".format(self.matrix[key][key2]),end=\"\")\n",
    "\n",
    "            print()\n",
    "\n",
    "mat1 = Matrix(\"BLOSUM62.txt\")\n",
    "mat1.print()\n",
    "    "
   ]
  },
  {
   "cell_type": "markdown",
   "metadata": {},
   "source": [
    "    \n",
    "\n",
    "## Define I and E \n",
    "if we do not use openning gap penalty, simply set I=E"
   ]
  },
  {
   "cell_type": "code",
   "execution_count": 2,
   "metadata": {
    "collapsed": true
   },
   "outputs": [],
   "source": [
    "I = -6\n",
    "E = -4"
   ]
  },
  {
   "cell_type": "markdown",
   "metadata": {},
   "source": [
    "## read fasta file"
   ]
  },
  {
   "cell_type": "code",
   "execution_count": null,
   "metadata": {
    "collapsed": true
   },
   "outputs": [],
   "source": []
  },
  {
   "cell_type": "code",
   "execution_count": 3,
   "metadata": {
    "collapsed": false
   },
   "outputs": [
    {
     "name": "stdout",
     "output_type": "stream",
     "text": [
      "VPLPAGWEMAKTSSGQRYFLNHIDQTTTWQDPRK\n",
      "SPLPPGWEERQDILGRTYYVNHESRRTQWKRPTP\n"
     ]
    }
   ],
   "source": [
    "def read_fasta(filename):\n",
    "    f = open(filename)\n",
    "    proteins = []\n",
    "    d = f.read().split(\">\")\n",
    "\n",
    "    # deal with the  \"\" before the first \"\"\n",
    "    d.pop(0)\n",
    "    for i in d:\n",
    "        t = i.splitlines()\n",
    "        # get rid of the line of the protein name\n",
    "        t.pop(0)\n",
    "        s = \"\".join(t)\n",
    "        proteins.append(s)\n",
    "    return proteins\n",
    "seq_list = read_fasta(\"WW-sequence.fasta\")\n",
    "seq1 =seq_list[0]\n",
    "seq2 =seq_list[1]\n",
    "\n",
    "print(seq1)\n",
    "print(seq2)"
   ]
  },
  {
   "cell_type": "markdown",
   "metadata": {},
   "source": [
    "## Here we initialize the direc_mat \n",
    "- direc_mat is a i*j matrix, and the element of the direc_mat is a list with the length of 5.\n",
    "- such as\n",
    " - t =[0,1,0,I,E]    \n",
    "  t[0] t[1] t[2] indicates the direction of traceback.    \n",
    "  t[3] t[4] use to deal with the gap penalty.     \n",
    "  if t[0]=1 and t[3] is the first element of a gap, then t[3]=I(opening gap penalty), else t[3]=E.    \n",
    "  the same with t[4]"
   ]
  },
  {
   "cell_type": "code",
   "execution_count": 4,
   "metadata": {
    "collapsed": false
   },
   "outputs": [],
   "source": [
    "direc_mat = []\n",
    "# print_mat3, the function to print the direc_mat in a formative way.\n",
    "def print_mat3(alist,n=3):\n",
    "    for i in alist:\n",
    "        for j in i:\n",
    "            print(j[0:n],end='')\n",
    "        print()\n",
    "\n",
    "for i in range(len(seq1) + 1):\n",
    "    # default, opening gap\n",
    "    direc_mat.append([[0, 0, 0,I,I] for i in range(len(seq2) + 1)])\n"
   ]
  },
  {
   "cell_type": "markdown",
   "metadata": {},
   "source": [
    "## Score_mat"
   ]
  },
  {
   "cell_type": "code",
   "execution_count": 5,
   "metadata": {
    "collapsed": true
   },
   "outputs": [],
   "source": [
    "score_mat = []\n",
    "for i in range(len(seq1) + 1):\n",
    "    score_mat.append([0 for i in range(len(seq2) + 1)])\n",
    "    \n",
    "# nicely output the score_mat\n",
    "def print_mat2(alist):\n",
    "    for i in alist:\n",
    "        for j in i:\n",
    "            print('{0:4d}'.format(j), end=\" \")\n",
    "        print()\n"
   ]
  },
  {
   "cell_type": "markdown",
   "metadata": {},
   "source": [
    "## initialize the score_mat and direc_mat\n"
   ]
  },
  {
   "cell_type": "code",
   "execution_count": 6,
   "metadata": {
    "collapsed": false
   },
   "outputs": [],
   "source": [
    "score_mat[0][0] = 0\n",
    "\n",
    "direc_mat[0][1] = [0,1,0,I,E]\n",
    "score_mat[0][1]=I\n",
    "direc_mat[1][0]=[1,0,0,E,I]\n",
    "score_mat[1][0]=I\n",
    "\n",
    "for i in range(2, len(seq2)+1):\n",
    "    direc_mat[0][i] = [0,1,0,I,E]\n",
    "    score_mat[0][i] = score_mat[0][i-1] + direc_mat[0][i-1][4]\n",
    "for i in range(2, len(seq1)+1):\n",
    "    direc_mat[i][0] = [1,0,0,E,I]\n",
    "    score_mat[i][0] = score_mat[i-1][0]+ direc_mat[i-1][0][3]\n",
    "    \n",
    "#print_mat2(score_mat)"
   ]
  },
  {
   "cell_type": "markdown",
   "metadata": {},
   "source": [
    "## Calculate the score\n"
   ]
  },
  {
   "cell_type": "code",
   "execution_count": 7,
   "metadata": {
    "collapsed": false
   },
   "outputs": [
    {
     "ename": "TypeError",
     "evalue": "score() missing 1 required positional argument: 'mat'",
     "output_type": "error",
     "traceback": [
      "\u001b[0;31m---------------------------------------------------------------------------\u001b[0m",
      "\u001b[0;31mTypeError\u001b[0m                                 Traceback (most recent call last)",
      "\u001b[0;32m<ipython-input-7-c1e8b095058b>\u001b[0m in \u001b[0;36m<module>\u001b[0;34m()\u001b[0m\n\u001b[1;32m     21\u001b[0m                 \u001b[0mdirec_mat\u001b[0m\u001b[0;34m[\u001b[0m\u001b[0mi\u001b[0m\u001b[0;34m]\u001b[0m\u001b[0;34m[\u001b[0m\u001b[0mj\u001b[0m\u001b[0;34m]\u001b[0m\u001b[0;34m[\u001b[0m\u001b[0;36m2\u001b[0m\u001b[0;34m]\u001b[0m \u001b[0;34m=\u001b[0m \u001b[0;36m1\u001b[0m\u001b[0;34m\u001b[0m\u001b[0m\n\u001b[1;32m     22\u001b[0m     \u001b[0;32mreturn\u001b[0m \u001b[0mscore_mat\u001b[0m\u001b[0;34m[\u001b[0m\u001b[0mlen\u001b[0m\u001b[0;34m(\u001b[0m\u001b[0mseq1\u001b[0m\u001b[0;34m)\u001b[0m\u001b[0;34m]\u001b[0m\u001b[0;34m[\u001b[0m\u001b[0mlen\u001b[0m\u001b[0;34m(\u001b[0m\u001b[0mseq2\u001b[0m\u001b[0;34m)\u001b[0m\u001b[0;34m]\u001b[0m\u001b[0;34m\u001b[0m\u001b[0m\n\u001b[0;32m---> 23\u001b[0;31m \u001b[0mprint\u001b[0m\u001b[0;34m(\u001b[0m\u001b[0mscore\u001b[0m\u001b[0;34m(\u001b[0m\u001b[0;34m)\u001b[0m\u001b[0;34m)\u001b[0m\u001b[0;34m\u001b[0m\u001b[0m\n\u001b[0m",
      "\u001b[0;31mTypeError\u001b[0m: score() missing 1 required positional argument: 'mat'"
     ]
    }
   ],
   "source": [
    "def score(mat):\n",
    "    for i in range(1, len(seq1) + 1):\n",
    "        for j in range(1, len(seq2) + 1):\n",
    "\n",
    "            t1 = score_mat[i - 1][j] + direc_mat[i-1][j][3]\n",
    "\n",
    "            t2 = score_mat[i][j - 1] +direc_mat[i][j-1][4]\n",
    "\n",
    "            t3 = score_mat[i - 1][j - 1] + mat.get(seq1[i - 1], seq2[j - 1])\n",
    "\n",
    "            maxscore = max(t1, t2, t3)\n",
    "            score_mat[i][j] = maxscore\n",
    "            if (t1 == maxscore):\n",
    "                direc_mat[i][j][1] = 1\n",
    "                # affine gap\n",
    "                direc_mat[i][j][3] = E\n",
    "            if (t2 == maxscore):\n",
    "                direc_mat[i][j][0] = 1\n",
    "                direc_mat[i][j][4] = E\n",
    "            if (t3 == maxscore):\n",
    "                direc_mat[i][j][2] = 1\n",
    "    return score_mat[len(seq1)][len(seq2)]\n",
    "print(score())"
   ]
  },
  {
   "cell_type": "markdown",
   "metadata": {},
   "source": [
    "## Trace back and print out the route"
   ]
  },
  {
   "cell_type": "code",
   "execution_count": null,
   "metadata": {
    "collapsed": false
   },
   "outputs": [],
   "source": [
    "def traceback():\n",
    "    path_pair = []\n",
    "    path_up = []\n",
    "    path_down = []\n",
    "    mark1 =[]\n",
    "    mark2 =[]\n",
    "\n",
    "\n",
    "    i = len(seq1)\n",
    "    j = len(seq2)\n",
    "\n",
    "\n",
    "    while (i > 0 and j > 0):\n",
    "        tlist = direc_mat[i][j]\n",
    "        if tlist[0] == 1:\n",
    "            path_up.insert(0, '-')\n",
    "            mark1.insert(0,' ')\n",
    "            mark2.insert(0,' ')\n",
    "            j = j - 1\n",
    "            path_down.insert(0, seq2[j])\n",
    "        elif tlist[1] == 1:\n",
    "            path_down.insert(0, '-')\n",
    "            mark1.insert(0, ' ')\n",
    "            mark2.insert(0, ' ')\n",
    "            i = i - 1\n",
    "            path_up.insert(0, seq1[i])\n",
    "        elif tlist[2] == 1:\n",
    "            i = i - 1\n",
    "            j = j - 1\n",
    "            if seq1[i]==seq2[j]:\n",
    "                mark1.insert(0,'.')\n",
    "                mark2.insert(0,'.')\n",
    "            elif mat1.get(seq1[i],seq2[j])>0:\n",
    "                mark1.insert(0,' ')\n",
    "                mark2.insert(0,'.')\n",
    "            else:\n",
    "                mark1.insert(0,' ')\n",
    "                mark2.insert(0,' ')\n",
    "            path_up.insert(0, seq1[i])\n",
    "            path_down.insert(0, seq2[j])\n",
    "    path_pair.append([path_up, mark1,mark2,path_down])\n",
    "    return path_pair\n",
    "\n",
    "def print_pathpair(alist):\n",
    "    for path in alist:\n",
    "        path_u = ''.join(path[0])\n",
    "        path_d = ''.join(path[3])\n",
    "        mark1=''.join(path[1])\n",
    "        mark2 = ''.join(path[2])\n",
    "\n",
    "        print(path_u)\n",
    "        print(mark1)\n",
    "        print(mark2)\n",
    "        print(path_d)\n",
    "\n",
    "print_pathpair(traceback())"
   ]
  },
  {
   "cell_type": "code",
   "execution_count": null,
   "metadata": {
    "collapsed": true
   },
   "outputs": [],
   "source": []
  },
  {
   "cell_type": "code",
   "execution_count": null,
   "metadata": {
    "collapsed": true
   },
   "outputs": [],
   "source": []
  },
  {
   "cell_type": "code",
   "execution_count": null,
   "metadata": {
    "collapsed": true
   },
   "outputs": [],
   "source": []
  },
  {
   "cell_type": "code",
   "execution_count": null,
   "metadata": {
    "collapsed": true
   },
   "outputs": [],
   "source": []
  },
  {
   "cell_type": "code",
   "execution_count": null,
   "metadata": {
    "collapsed": true
   },
   "outputs": [],
   "source": []
  }
 ],
 "metadata": {
  "celltoolbar": "Edit Metadata",
  "kernelspec": {
   "display_name": "Python 3",
   "language": "python",
   "name": "python3"
  },
  "language_info": {
   "codemirror_mode": {
    "name": "ipython",
    "version": 3
   },
   "file_extension": ".py",
   "mimetype": "text/x-python",
   "name": "python",
   "nbconvert_exporter": "python",
   "pygments_lexer": "ipython3",
   "version": "3.6.0"
  }
 },
 "nbformat": 4,
 "nbformat_minor": 0
}
