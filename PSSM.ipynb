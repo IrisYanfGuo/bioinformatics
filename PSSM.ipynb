{
 "cells": [
  {
   "cell_type": "markdown",
   "metadata": {},
   "source": [
    "# Detecting motifs by aligning sequences to PSSMs\n",
    "Name: Yanfang Guo\n",
    "\n",
    "Department : MACS\n",
    "\n",
    "Email: Yanfang.Guo@vub.be\n",
    "\n",
    "- here I use [Clustal Omega](http://www.ebi.ac.uk/Tools/msa/clustalo/) to align the WW-sequence\n",
    "- all step are followed by these formulas\n",
    "![](https://ww4.sinaimg.cn/large/006tNbRwgy1fdo5b0ccmoj30o80b0aas.jpg)\n",
    "- some variables in the program\n",
    "    - fua -->$f_{u,a}$\n",
    "    - mua -->$m_{u,a}$\n",
    "    - pa  -- >$p_{a}$\n",
    "    - alpa -->$\\alpha$\n",
    "    - beta -->$\\beta$\n",
    "    - Nseq --> $N_{seq}$"
   ]
  },
  {
   "cell_type": "code",
   "execution_count": 1,
   "metadata": {
    "collapsed": true
   },
   "outputs": [],
   "source": [
    "from read_fasta import *\n",
    "from Matrix import *\n",
    "from numpy import *"
   ]
  },
  {
   "cell_type": "markdown",
   "metadata": {},
   "source": [
    "- read the file\n",
    "- Methods\n",
    "    - print_mat2() nicely print 2-dimension data set\n",
    "    - fre(b,pos) b is the specific amino acid, and pos is the specific position"
   ]
  },
  {
   "cell_type": "code",
   "execution_count": 2,
   "metadata": {
    "collapsed": true
   },
   "outputs": [],
   "source": [
    "blosum = Matrix(\"BLOSUM62.txt\")\n",
    "seq_aligned = read_fasta(\"WW-aligned-136.fasta\")\n",
    "seq2 =seq_aligned[0]\n",
    "\n",
    "amino = ['A', 'Q', 'L', 'S', 'R', 'E', 'K', 'T', 'N', 'G', 'M', 'W', 'D', 'H', 'F', 'Y', 'C', 'I', 'P', 'V']\n",
    "# print(amino)\n",
    "\n",
    "\n",
    "\n",
    "\n",
    "def print_mat2(alist):\n",
    "    for i in alist:\n",
    "        for j in i:\n",
    "            print('{0:2f}'.format(j), end=\" \")\n",
    "        print()\n",
    "\n",
    "\n",
    "def fre(b, pos):\n",
    "    count = 0\n",
    "    for i in range(len(seq_aligned)):\n",
    "        if b == seq_aligned[i][pos]:\n",
    "            count += 1\n",
    "    return count / len(seq_aligned)\n",
    "\n",
    "\n",
    "\n",
    "def print_fua(dict):\n",
    "    for key in dict:\n",
    "        print(key, end=':')\n",
    "        for j in dict[key]:\n",
    "            print('{0:4f}'.format(j), end=\" \")\n",
    "        print()\n",
    "    print()\n",
    "    print()"
   ]
  },
  {
   "cell_type": "markdown",
   "metadata": {},
   "source": [
    "## Calculate $f_{u,a}$\n"
   ]
  },
  {
   "cell_type": "code",
   "execution_count": 3,
   "metadata": {
    "collapsed": false
   },
   "outputs": [],
   "source": [
    "fua = {}\n",
    "# calculate the fua\n",
    "for i in amino:\n",
    "    t = []\n",
    "    for j in range(len(seq_aligned[0])):\n",
    "        t.append(fre(i, j))\n",
    "    fua[i] = t\n",
    "# print_fua(fua)\n",
    "\n",
    "\n",
    "#print_fua(fua)"
   ]
  },
  {
   "cell_type": "markdown",
   "metadata": {},
   "source": [
    "## Calculate $p_{u,a}$ and $m_{u,a}$ according to the formula\n",
    "- print out $p_{u,a}$ dictionary and compare that with weblogo constructed from the website\n"
   ]
  },
  {
   "cell_type": "code",
   "execution_count": 4,
   "metadata": {
    "collapsed": false
   },
   "outputs": [],
   "source": [
    "# construct the pa dictionary\n",
    "\n",
    "f = open(\"pa.txt\")\n",
    "pa = {}\n",
    "for line in f:\n",
    "    t = line.split()\n",
    "    for i in range(0, len(t), 2):\n",
    "        tt = t[i]\n",
    "        pa[tt] = float(t[i + 1]) / 100\n",
    "\n",
    "count =0\n",
    "for i in seq_aligned:\n",
    "    for j in i:\n",
    "        if j=='-':\n",
    "            count +=1\n",
    "pa['-'] = count/(len(seq_aligned)*len(seq_aligned))\n",
    "Nseq = len(seq_aligned)\n",
    "alpa = Nseq - 1\n",
    "beta = sqrt(Nseq)\n",
    "\n",
    "# calculate the pua\n",
    "pua = {}\n",
    "for key in fua:\n",
    "    t = []\n",
    "    for i in range(len(seq_aligned[0])):\n",
    "        t.append((alpa * fua[key][i] + beta * pa[key]) / (alpa + beta))\n",
    "\n",
    "    pua[key] = t\n",
    "\n",
    "# calculate the mua, the final PSSM matrix\n",
    "\n",
    "mua = {}\n",
    "for key in pua:\n",
    "    t = []\n",
    "    for i in range(len(seq_aligned[0])):\n",
    "        t.append(log(pua[key][i] / pa[key]))\n",
    "    mua[key] = t\n",
    "\n",
    "# print_fua(mua)\n",
    "\n",
    "# print(max_value())"
   ]
  },
  {
   "cell_type": "markdown",
   "metadata": {},
   "source": [
    "## Calculate the gap penalty for every position\n",
    "1. first, calculate the frequency of '-' in every position\n",
    "2. Because for different position, the frequency is different. The bigger frequency should have lower penalty score.\n",
    "3. I tested several functions and finally choose **$(tanh(frequency)-0.8)$**, and it gave me the promissing results."
   ]
  },
  {
   "cell_type": "code",
   "execution_count": 5,
   "metadata": {
    "collapsed": false
   },
   "outputs": [
    {
     "name": "stdout",
     "output_type": "stream",
     "text": [
      "[-0.77975984958469369, -0.80000000000000004, -0.80000000000000004, -0.80000000000000004, -0.80000000000000004, -0.80000000000000004, -0.80000000000000004, -0.80000000000000004, -0.80000000000000004, -0.78785484822070539, -0.79190301096458215, -0.79595143912404431, -0.30511431692859925, -0.49797997873463395, -0.80000000000000004, -0.74741696521396317, -0.80000000000000004, -0.80000000000000004, -0.80000000000000004, -0.80000000000000004, -0.80000000000000004, -0.79595143912404431, -0.76357887005982339, -0.74741696521396317, -0.063256172812858003, -0.063256172812858003, -0.063256172812858003, -0.063256172812858003, -0.047039270257138388, -0.047039270257138388, -0.047039270257138388, -0.047039270257138388, -0.047039270257138388, -0.047039270257138388, -0.040111394559352309, -0.040111394559352309, -0.040111394559352309, -0.040111394559352309, -0.040111394559352309, -0.047039270257138388, -0.047039270257138388, -0.047039270257138388, -0.047039270257138388, -0.047039270257138388, -0.047039270257138388, -0.040111394559352309, -0.041827471558495311, -0.063256172812858003, -0.070749103281051329, -0.76357887005982339, -0.76357887005982339, -0.76357887005982339, -0.76357887005982339, -0.80000000000000004, -0.80000000000000004, -0.80000000000000004, -0.79190301096458215, -0.79190301096458215, -0.79190301096458215]\n"
     ]
    }
   ],
   "source": [
    "gap1=[]\n",
    "for i in range(len(seq_aligned[0])):\n",
    "    gap1.append(fre('-',i))\n",
    "# print(gap1)\n",
    "gap =[(tanh(i)-0.8) for i in gap1]\n",
    "print(gap)\n",
    "# print(pua['A'])\n",
    "# print_fua(pua)"
   ]
  },
  {
   "cell_type": "markdown",
   "metadata": {},
   "source": [
    "To make it more clear we print out the largest value in the specific positions"
   ]
  },
  {
   "cell_type": "code",
   "execution_count": 6,
   "metadata": {
    "collapsed": false
   },
   "outputs": [
    {
     "name": "stdout",
     "output_type": "stream",
     "text": [
      "0 : P 0.295855 1 : L 0.690778 2 : P 0.684012 3 : P 0.333910 4 : G 0.567460 5 : W 0.925382 6 : E 0.582478 7 : E 0.304679 8 : R 0.265898 9 : I 0.132947 10 : D 0.440907 11 : P 0.227357 12 : S 0.125738 13 : D 0.102221 14 : G 0.776761 15 : R 0.429533 16 : V 0.266696 17 : Y 0.698153 18 : Y 0.625849 19 : V 0.285724 20 : N 0.512370 21 : H 0.526517 22 : N 0.303070 23 : T 0.478896 24 : R 0.029959 25 : K 0.030133 26 : V 0.030758 27 : T 0.029851 28 : G 0.023279 29 : E 0.019269 30 : N 0.017660 31 : D 0.018501 32 : T 0.018435 33 : R 0.018543 34 : L 0.009600 35 : G 0.008057 36 : S 0.007769 37 : L 0.009600 38 : Q 0.006165 39 : E 0.019269 40 : S 0.019185 41 : V 0.019341 42 : P 0.021862 43 : S 0.019185 44 : Y 0.016975 45 : N 0.006244 46 : H 0.008974 47 : I 0.034005 48 : N 0.055715 49 : R 0.273509 50 : T 0.338093 51 : T 0.627309 52 : T 0.357121 53 : W 0.761747 54 : E 0.388399 55 : D 0.300105 56 : P 0.919951 57 : R 0.311563 58 : L 0.218901 "
     ]
    }
   ],
   "source": [
    "# print the max value in the matrix and compare that to weblogo\n",
    "def max_value(dict=pua):\n",
    "    result = []\n",
    "    for i in range(len(seq_aligned[0])):\n",
    "        t = [dict[key][i] for key in dict]\n",
    "        result.append([i,amino[argmax(t)],max(t)])\n",
    "    return result\n",
    "for i in max_value():\n",
    "    print(i[0],\":\",i[1],'{0:2f}'.format(i[2]),end=\" \")"
   ]
  },
  {
   "cell_type": "markdown",
   "metadata": {},
   "source": [
    "![](https://ww2.sinaimg.cn/large/006tNbRwgy1fdo5zwxfkdj30hn0603yt.jpg)\n",
    "compare the max value in every position with the weblogo, it is very similar\n",
    "\n",
    "The logo obtained from [PFAM](http://pfam.xfam.org/family/PF00397#tabview=tab4)\n",
    "![](https://ww1.sinaimg.cn/large/006tNbRwgy1fdopkfdncvj31kw0gzk08.jpg)\n",
    "\n",
    "difference: in the logo from PFAM family, the positions where  gaps have largest probabilities are not shown"
   ]
  },
  {
   "cell_type": "markdown",
   "metadata": {},
   "source": [
    "## Initialize the score_mat and direc_mat"
   ]
  },
  {
   "cell_type": "code",
   "execution_count": 7,
   "metadata": {
    "collapsed": true
   },
   "outputs": [],
   "source": [
    "seq_list = read_fasta(\"protein-sequences.fasta\")\n",
    "seq1 = seq_list[0]\n",
    "# initialize the score_mat and direc_mat\n",
    "lseq2 = len(mua['A'])\n",
    "score_mat = []\n",
    "direc_mat = []\n",
    "\n",
    "for i in range(len(seq1)+1):\n",
    "    direc_mat.append([[0, 0, 0] for i in range(lseq2)])\n",
    "for i in range(len(seq1)+1):\n",
    "    score_mat.append([0 for i in range(lseq2)])\n",
    "\n",
    "\n",
    "def print_mat2(alist):\n",
    "    for i in alist:\n",
    "        for j in i:\n",
    "            print('{0:4f}'.format(j), end=\" \")\n",
    "        print()\n",
    "\n",
    "\n",
    "def print_mat3(alist, n=3):\n",
    "    for i in alist:\n",
    "        for j in i:\n",
    "            print(j[0:n], end='')\n",
    "        print()"
   ]
  },
  {
   "cell_type": "markdown",
   "metadata": {},
   "source": [
    "## Calculate the score according to the formula"
   ]
  },
  {
   "cell_type": "code",
   "execution_count": 8,
   "metadata": {
    "collapsed": true
   },
   "outputs": [],
   "source": [
    "def local_pssm(istart=1, jstart=1):\n",
    "    for i in range(istart, len(seq1)):\n",
    "        for j in range(jstart,lseq2):\n",
    "            t1 = score_mat[i - 1][j - 1] + mua[seq1[i]][j]\n",
    "\n",
    "            t2 = score_mat[i][j - 1] + gap[j-1]\n",
    "\n",
    "            ## ??? doubt\n",
    "            t3 = score_mat[i - 1][j] + gap[j]\n",
    "\n",
    "            max_score = max(t1, t2, t3, 0)\n",
    "            score_mat[i][j] = max_score\n",
    "\n",
    "            if max_score > 0:\n",
    "                if max_score == t1:\n",
    "                    direc_mat[i][j][2] = 1\n",
    "                if max_score == t2:\n",
    "                    direc_mat[i][j][1] = 1\n",
    "                if max_score == t3:\n",
    "                    direc_mat[i][j][0] = 1"
   ]
  },
  {
   "cell_type": "code",
   "execution_count": 9,
   "metadata": {
    "collapsed": true
   },
   "outputs": [],
   "source": [
    "def print_pathpair(alist):\n",
    "    for path in alist:\n",
    "        path_u = ''.join(path[0])\n",
    "        path_d = ''.join(path[1])\n",
    "\n",
    "        print(path_u)\n",
    "        print(path_d)"
   ]
  },
  {
   "cell_type": "markdown",
   "metadata": {},
   "source": [
    "## Traceback\n",
    "- very similar to local_traceback\n",
    "- find the largest element in the last column(different from the local alignment)\n",
    "- do traceback like that in local alignment"
   ]
  },
  {
   "cell_type": "code",
   "execution_count": 10,
   "metadata": {
    "collapsed": true
   },
   "outputs": [],
   "source": [
    "def traceback(k=1):\n",
    "    path_pair = []\n",
    "    path_down = []\n",
    "    path_up=[]\n",
    "\n",
    "    # find the largest element in the j column\n",
    "    t = [score_mat[i][lseq2-1] for i in range(len(seq1))]\n",
    "    i = argmax(t)\n",
    "\n",
    "    recal_pair=[]\n",
    "\n",
    "\n",
    "    print('score:',score_mat[i][lseq2-1])\n",
    "    print(\"the coordinate of the starting tracing coordinate:\", i)\n",
    "\n",
    "    queue = []\n",
    "\n",
    "    queue.append([path_up[0:len(path_up)], path_down[0:len(path_down)], i, lseq2-1])\n",
    "    while (len(queue) > 0):\n",
    "\n",
    "        t = queue.pop(0)\n",
    "        i = t[2]\n",
    "        j = t[3]\n",
    "        path_up = t[0]\n",
    "        path_down = t[1]\n",
    "\n",
    "\n",
    "        if score_mat[i][j]==0:\n",
    "            path_pair.append([path_up,path_down])\n",
    "        # scan all possible path and append it to the queue\n",
    "        else:\n",
    "            if direc_mat[i][j][1] == 1:\n",
    "                path_up.insert(0, '-')\n",
    "                j = j - 1\n",
    "\n",
    "                path_down.insert(0, '*')\n",
    "\n",
    "                recal_pair.append([i,j])\n",
    "\n",
    "                if len(queue) < k:\n",
    "                    queue.append([path_up[0:len(path_up)], path_down[0:len(path_down)], i, j])\n",
    "                j = j + 1\n",
    "                path_up = path_up[1:]\n",
    "                path_down = path_down[1:]\n",
    "            if direc_mat[i][j][0] == 1:\n",
    "                path_down.insert(0, '-')\n",
    "                i = i - 1\n",
    "                path_up.insert(0, seq1[i])\n",
    "\n",
    "\n",
    "                recal_pair.append([i,j])\n",
    "\n",
    "                if len(queue) < k:\n",
    "                    queue.append([path_up[0:len(path_up)], path_down[0:len(path_down)], i, j])\n",
    "                i = i + 1\n",
    "                path_up = path_up[1:]\n",
    "                path_down = path_down[1:]\n",
    "\n",
    "            if direc_mat[i][j][2] == 1:\n",
    "                i = i - 1\n",
    "                j = j - 1\n",
    "                path_up.insert(0, seq1[i])\n",
    "                path_down.insert(0, '*')\n",
    "\n",
    "                recal_pair.append([i,j])\n",
    "\n",
    "                if len(queue) < k:\n",
    "                    queue.append([path_up[0:len(path_up)], path_down[0:len(path_down)], i, j])\n",
    "                i = i + 1\n",
    "                j = j + 1\n",
    "                path_up = path_up[1:]\n",
    "                path_down = path_down[1:]\n",
    "\n",
    "            score_mat[i][j]=0\n",
    "\n",
    "    #print(path_pair)\n",
    "\n",
    "    #print(\"recal_pair:\",recal_pair)\n",
    "\n",
    "    for k in range(len(recal_pair) - 1, -1, -1):\n",
    "        t = recal_pair[k]\n",
    "        recal(recal_pair[k][0], recal_pair[k][1])\n",
    "\n",
    "    return path_pair"
   ]
  },
  {
   "cell_type": "code",
   "execution_count": 11,
   "metadata": {
    "collapsed": true
   },
   "outputs": [],
   "source": [
    "def recal(i,j):\n",
    "    score_mat[i][j] = 0\n",
    "    if i< len(seq1)-2 and j <lseq2-2:\n",
    "        if direc_mat[i+1][j][0]==0 and direc_mat[i][j+1][1]==0 and direc_mat[i+1][j+1][2]==0:\n",
    "            return\n",
    "    if i< len(seq1)-2:\n",
    "        i = i+1\n",
    "        if direc_mat[i][j][0]==1:\n",
    "            # do recalculate\n",
    "            t1 = score_mat[i - 1][j - 1] + mua[seq1[i]][j]\n",
    "\n",
    "            t2 = score_mat[i][j - 1] + gap[j - 1]\n",
    "\n",
    "            \n",
    "            t3 = score_mat[i - 1][j] + gap[j]\n",
    "            max_score = max(t1, t2, t3, 0)\n",
    "            score_mat[i][j] = max_score\n",
    "\n",
    "            if max_score > 0:\n",
    "                if max_score == t1:\n",
    "                    direc_mat[i][j][2] = 1\n",
    "\n",
    "\n",
    "                elif max_score == t2:\n",
    "                    # horizental\n",
    "                    direc_mat[i][j][1] = 1\n",
    "\n",
    "                else:\n",
    "                    # vertical, seq1 has a gap\n",
    "                    direc_mat[i][j][0] = 1\n",
    "            else:\n",
    "                direc_mat[i][j][0]=0\n",
    "                direc_mat[i][j][1]=0\n",
    "                direc_mat[i][j][2]=0\n",
    "            recal(i,j)\n",
    "\n",
    "\n",
    "        i = i-1\n",
    "\n",
    "    if j < lseq2-2:\n",
    "        j = j+1\n",
    "        if direc_mat[i][j][1] ==1:\n",
    "            t1 = score_mat[i - 1][j - 1] + mua[seq1[i]][j]\n",
    "\n",
    "            t2 = score_mat[i][j - 1] + gap[j - 1]\n",
    "\n",
    "            ## ??? doubt\n",
    "            t3 = score_mat[i - 1][j] + gap[j]\n",
    "\n",
    "            max_score = max(t1, t2, t3, 0)\n",
    "            score_mat[i][j] = max_score\n",
    "\n",
    "            if max_score > 0:\n",
    "                if max_score == t1:\n",
    "                    direc_mat[i][j][2] = 1\n",
    "\n",
    "\n",
    "                elif max_score == t2:\n",
    "                    # horizental\n",
    "                    direc_mat[i][j][1] = 1\n",
    "\n",
    "                else:\n",
    "                    # vertical, seq1 has a gap\n",
    "                    direc_mat[i][j][0] = 1\n",
    "            else:\n",
    "                direc_mat[i][j][0]=0\n",
    "                direc_mat[i][j][1]=0\n",
    "                direc_mat[i][j][2]=0\n",
    "            recal(i, j)\n",
    "        j = j-1\n",
    "\n",
    "    if i<len(seq1)-2 and j<lseq2-1:\n",
    "        i = i+1\n",
    "        j = j+1\n",
    "        if direc_mat[i][j][2] ==1:\n",
    "            t1 = score_mat[i - 1][j - 1] + mua[seq1[i]][j]\n",
    "\n",
    "            t2 = score_mat[i][j - 1] + gap[j - 1]\n",
    "\n",
    "            ## ??? doubt\n",
    "            t3 = score_mat[i - 1][j] + gap[j]\n",
    "\n",
    "            max_score = max(t1, t2, t3, 0)\n",
    "            score_mat[i][j] = max_score\n",
    "\n",
    "            if max_score > 0:\n",
    "                if max_score == t1:\n",
    "                    direc_mat[i][j][2] = 1\n",
    "\n",
    "                elif max_score == t2:\n",
    "                    # horizental\n",
    "                    direc_mat[i][j][1] = 1\n",
    "                else:\n",
    "                    # vertical, seq1 has a gap\n",
    "                    direc_mat[i][j][0] = 1\n",
    "            else:\n",
    "                direc_mat[i][j][0]=0\n",
    "                direc_mat[i][j][1]=0\n",
    "                direc_mat[i][j][2]=0\n",
    "            recal(i, j)\n",
    "\n",
    "\n",
    "        i = i -1\n",
    "        j = j -1"
   ]
  },
  {
   "cell_type": "code",
   "execution_count": 12,
   "metadata": {
    "collapsed": false
   },
   "outputs": [
    {
     "name": "stdout",
     "output_type": "stream",
     "text": [
      "score: 48.5418325556\n",
      "the coordinate of the starting tracing coordinate: 262\n",
      "PLPDGWEQAMTQ-DGEIYYINHK--------------------------NKTTSWLDPR\n",
      "*********************-*************************************\n",
      "score: 47.6561536004\n",
      "the coordinate of the starting tracing coordinate: 203\n",
      "PLPAGWEMAKTS-SGQRYFLNHI-------------------------DQTTTWQDPR\n",
      "**********************************************************\n",
      "score: 47.4035814071\n",
      "the coordinate of the starting tracing coordinate: 202\n",
      "-\n",
      "*\n"
     ]
    }
   ],
   "source": [
    "# pack local_pssm which calculate the score, traceback(k) and print_pathpair in one function\n",
    "# the n indicates the number of motifs we would like to find, k indicates in one path, the maximum number of subpaths\n",
    "def multi_path_pssm(n,k):\n",
    "    local_pssm()\n",
    "    for i in range(n):\n",
    "        print_pathpair(traceback(k))\n",
    "        \n",
    "multi_path_pssm(3,2)"
   ]
  },
  {
   "cell_type": "markdown",
   "metadata": {
    "collapsed": true
   },
   "source": [
    "The result from [Uniprot-P46937](http://www.uniprot.org/uniprot/P46937)\n",
    "![](https://ww2.sinaimg.cn/large/006tNbRwgy1fdoq478hhsj31kw07twgl.jpg)\n",
    "\n",
    "The result given from the website is exactly the same with the result from my algorithms"
   ]
  },
  {
   "cell_type": "code",
   "execution_count": null,
   "metadata": {
    "collapsed": true
   },
   "outputs": [],
   "source": [
    ""
   ]
  },
  {
   "cell_type": "code",
   "execution_count": null,
   "metadata": {
    "collapsed": true
   },
   "outputs": [],
   "source": [
    ""
   ]
  }
 ],
 "metadata": {
  "kernelspec": {
   "display_name": "Python 3",
   "language": "python",
   "name": "python3"
  },
  "language_info": {
   "codemirror_mode": {
    "name": "ipython",
    "version": 3.0
   },
   "file_extension": ".py",
   "mimetype": "text/x-python",
   "name": "python",
   "nbconvert_exporter": "python",
   "pygments_lexer": "ipython3",
   "version": "3.6.0"
  }
 },
 "nbformat": 4,
 "nbformat_minor": 0
}