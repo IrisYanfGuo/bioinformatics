{
 "cells": [
  {
   "cell_type": "markdown",
   "metadata": {
    "collapsed": true
   },
   "source": [
    "# Global Alignment\n",
    "\n",
    "Name: Yanfang Guo           \n",
    "Department : MACS       \n",
    "Email: Yanfang.Guo@vub.be         \n",
    "\n"
   ]
  },
  {
   "cell_type": "markdown",
   "metadata": {},
   "source": [
    "## Using Matrix class to represent the BLOSOM matrix\n",
    "- the blosom data is stored in \"BLOSOM62.txt\",\"BLOSOM50.txt\",\"BLOSOM80.txt\",\"BLOSOM90.txt\", each time choose a proper blosom matrix\n",
    "- inside the Matrix class, the main data structure is Matrix which use dictionary in Python\n",
    "- initialize the Matrix in this way, Matrix(\"BLOSOM62\")."
   ]
  },
  {
   "cell_type": "code",
   "execution_count": 1,
   "metadata": {
    "collapsed": false
   },
   "outputs": [
    {
     "name": "stdout",
     "output_type": "stream",
     "text": [
      "  4 -1 -2 -2  0 -1 -1  0 -2 -1 -1 -1 -1 -2 -1  1  0 -3 -2  0 -2 -1  0 -4\n",
      " -1  5  0 -2 -3  1  0 -2  0 -3 -2  2 -1 -3 -2 -1 -1 -3 -2 -3 -1  0 -1 -4\n",
      " -2  0  6  1 -3  0  0  0  1 -3 -3  0 -2 -3 -2  1  0 -4 -2 -3  3  0 -1 -4\n",
      " -2 -2  1  6 -3  0  2 -1 -1 -3 -4 -1 -3 -3 -1  0 -1 -4 -3 -3  4  1 -1 -4\n",
      "  0 -3 -3 -3  9 -3 -4 -3 -3 -1 -1 -3 -1 -2 -3 -1 -1 -2 -2 -1 -3 -3 -2 -4\n",
      " -1  1  0  0 -3  5  2 -2  0 -3 -2  1  0 -3 -1  0 -1 -2 -1 -2  0  3 -1 -4\n",
      " -1  0  0  2 -4  2  5 -2  0 -3 -3  1 -2 -3 -1  0 -1 -3 -2 -2  1  4 -1 -4\n",
      "  0 -2  0 -1 -3 -2 -2  6 -2 -4 -4 -2 -3 -3 -2  0 -2 -2 -3 -3 -1 -2 -1 -4\n",
      " -2  0  1 -1 -3  0  0 -2  8 -3 -3 -1 -2 -1 -2 -1 -2 -2  2 -3  0  0 -1 -4\n",
      " -1 -3 -3 -3 -1 -3 -3 -4 -3  4  2 -3  1  0 -3 -2 -1 -3 -1  3 -3 -3 -1 -4\n",
      " -1 -2 -3 -4 -1 -2 -3 -4 -3  2  4 -2  2  0 -3 -2 -1 -2 -1  1 -4 -3 -1 -4\n",
      " -1  2  0 -1 -3  1  1 -2 -1 -3 -2  5 -1 -3 -1  0 -1 -3 -2 -2  0  1 -1 -4\n",
      " -1 -1 -2 -3 -1  0 -2 -3 -2  1  2 -1  5  0 -2 -1 -1 -1 -1  1 -3 -1 -1 -4\n",
      " -2 -3 -3 -3 -2 -3 -3 -3 -1  0  0 -3  0  6 -4 -2 -2  1  3 -1 -3 -3 -1 -4\n",
      " -1 -2 -2 -1 -3 -1 -1 -2 -2 -3 -3 -1 -2 -4  7 -1 -1 -4 -3 -2 -2 -1 -2 -4\n",
      "  1 -1  1  0 -1  0  0  0 -1 -2 -2  0 -1 -2 -1  4  1 -3 -2 -2  0  0  0 -4\n",
      "  0 -1  0 -1 -1 -1 -1 -2 -2 -1 -1 -1 -1 -2 -1  1  5 -2 -2  0 -1 -1  0 -4\n",
      " -3 -3 -4 -4 -2 -2 -3 -2 -2 -3 -2 -3 -1  1 -4 -3 -2 11  2 -3 -4 -3 -2 -4\n",
      " -2 -2 -2 -3 -2 -1 -2 -3  2 -1 -1 -2 -1  3 -3 -2 -2  2  7 -1 -3 -2 -1 -4\n",
      "  0 -3 -3 -3 -1 -2 -2 -3 -3  3  1 -2  1 -1 -2 -2  0 -3 -1  4 -3 -2 -1 -4\n",
      " -2 -1  3  4 -3  0  1 -1  0 -3 -4  0 -3 -3 -2  0 -1 -4 -3 -3  4  1 -1 -4\n",
      " -1  0  0  1 -3  3  4 -2  0 -3 -3  1 -1 -3 -1  0 -1 -3 -2 -2  1  4 -1 -4\n",
      "  0 -1 -1 -1 -2 -1 -1 -1 -1 -1 -1 -1 -1 -1 -2  0  0 -2 -1 -1 -1 -1 -1 -4\n",
      " -4 -4 -4 -4 -4 -4 -4 -4 -4 -4 -4 -4 -4 -4 -4 -4 -4 -4 -4 -4 -4 -4 -4  1\n"
     ]
    }
   ],
   "source": [
    "class Matrix(object):\n",
    "    def __init__(self,file):\n",
    "        f = open(file)\n",
    "        self.matrix ={}\n",
    "        # c is the name of the column\n",
    "        c = f.readline().split()\n",
    "        for i in f:\n",
    "            r = i.split()\n",
    "            rowname = r.pop(0)\n",
    "            t = {}\n",
    "            for j in range(len(c)):\n",
    "                t[c[j]] = int(r[j])\n",
    "            self.matrix[rowname] = t\n",
    "\n",
    "    def get(self,row,col):\n",
    "        return self.matrix[row][col]\n",
    "\n",
    "    def print(self):\n",
    "        for key in self.matrix:\n",
    "            for key2 in self.matrix[key]:\n",
    "\n",
    "                print(\"{0:3d}\".format(self.matrix[key][key2]),end=\"\")\n",
    "\n",
    "            print()\n",
    "\n",
    "mat1 = Matrix(\"BLOSUM62.txt\")\n",
    "mat1.print()"
   ]
  },
  {
   "cell_type": "markdown",
   "metadata": {},
   "source": [
    "    \n",
    "\n",
    "## Define I and E \n",
    "\n",
    "- I is opening gap penalty\n",
    "- E is extending gap penalty\n",
    "- if you want to use linear gap penalty, simply let I=E"
   ]
  },
  {
   "cell_type": "code",
   "execution_count": 2,
   "metadata": {
    "collapsed": true
   },
   "outputs": [],
   "source": [
    "I = -6\n",
    "E = -4"
   ]
  },
  {
   "cell_type": "markdown",
   "metadata": {},
   "source": [
    "## Read fasta file\n",
    "- each time this method will read the fasta file and return a list with all the sequences"
   ]
  },
  {
   "cell_type": "code",
   "execution_count": 3,
   "metadata": {
    "collapsed": false
   },
   "outputs": [
    {
     "name": "stdout",
     "output_type": "stream",
     "text": [
      "VPLPAGWEMAKTSSGQRYFLNHIDQTTTWQDPRK\n",
      "SPLPPGWEERQDILGRTYYVNHESRRTQWKRPTP\n",
      "GPLPPGWEERTHTDGRIFYINHNIKRTQWEDPRL\n",
      "EKLPPGWEKRMSRSSGRVYYFNHITNASQWERPSG\n",
      "SGAKSMWTEHKSPDGRTYYYNTETKQSTWEKPDD\n",
      "LLSKCPWKEYKSDSGKPYYYNSQTKESRWAKPKE\n"
     ]
    }
   ],
   "source": [
    "def read_fasta(filename):\n",
    "    f = open(filename)\n",
    "    proteins = []\n",
    "    d = f.read().split(\">\")\n",
    "\n",
    "    # deal with the  \"\" before the first \"\"\n",
    "    d.pop(0)\n",
    "    for i in d:\n",
    "        t = i.splitlines()\n",
    "        # get rid of the line of the protein name\n",
    "        t.pop(0)\n",
    "        s = \"\".join(t)\n",
    "        proteins.append(s)\n",
    "    return proteins\n",
    "seq_list = read_fasta(\"WW-sequence.fasta\")\n",
    "seq1 =seq_list[0]\n",
    "seq2 =seq_list[1]\n",
    "\n",
    "for i in seq_list:\n",
    "    print(i)"
   ]
  },
  {
   "cell_type": "markdown",
   "metadata": {},
   "source": [
    "## Here we initialize the direc_mat \n",
    "- direc_mat is an i*j Matrix(i,j are the length of two sequences)\n",
    "- the element in the Matrix is a list with the length 5. The first 3 positions indicate the traceback direction(Vertical, horizental, Oblique), and the last two positions are used to indicate the next element of the penalty is opening gap penalty or extending gap penalty(in vertical and horizental directions)\n",
    "- such as\n",
    " - t =[0,1,0,I,E]    \n",
    "  t[0] t[1] t[2] indicates the direction of traceback.    \n",
    "  t[3] t[4] use to deal with the gap penalty.     \n",
    "  if t[0]=1 and t[3] is the first element of a gap, then t[3]=I(opening gap penalty), else t[3]=E.    \n",
    "  the same with t[4]"
   ]
  },
  {
   "cell_type": "code",
   "execution_count": 4,
   "metadata": {
    "collapsed": false
   },
   "outputs": [],
   "source": [
    "direc_mat = []\n",
    "# print_mat3, the function to print the direc_mat in a formative way.\n",
    "def print_mat3(alist,n=3):\n",
    "    for i in alist:\n",
    "        for j in i:\n",
    "            print(j[0:n],end='')\n",
    "        print()\n",
    "\n",
    "for i in range(len(seq1) + 1):\n",
    "    # default, opening gap\n",
    "    direc_mat.append([[0, 0, 0,I,I] for i in range(len(seq2) + 1)])"
   ]
  },
  {
   "cell_type": "markdown",
   "metadata": {},
   "source": [
    "## Score_mat"
   ]
  },
  {
   "cell_type": "code",
   "execution_count": 5,
   "metadata": {
    "collapsed": true
   },
   "outputs": [],
   "source": [
    "score_mat = []\n",
    "for i in range(len(seq1) + 1):\n",
    "    score_mat.append([0 for i in range(len(seq2) + 1)])\n",
    "    \n",
    "# nicely output the score_mat\n",
    "def print_mat2(alist):\n",
    "    for i in alist:\n",
    "        for j in i:\n",
    "            print('{0:4d}'.format(j), end=\" \")\n",
    "        print()"
   ]
  },
  {
   "cell_type": "markdown",
   "metadata": {},
   "source": [
    "## Initialize the score_mat and direc_mat\n",
    "\n",
    "here we focused on the first line and the first row.\n"
   ]
  },
  {
   "cell_type": "code",
   "execution_count": 6,
   "metadata": {
    "collapsed": false
   },
   "outputs": [],
   "source": [
    "score_mat[0][0] = 0\n",
    "\n",
    "direc_mat[0][1] = [0,1,0,I,E]\n",
    "score_mat[0][1]=I\n",
    "direc_mat[1][0]=[1,0,0,E,I]\n",
    "score_mat[1][0]=I\n",
    "\n",
    "for i in range(2, len(seq2)+1):\n",
    "    direc_mat[0][i] = [0,1,0,I,E]\n",
    "    score_mat[0][i] = score_mat[0][i-1] + direc_mat[0][i-1][4]\n",
    "for i in range(2, len(seq1)+1):\n",
    "    direc_mat[i][0] = [1,0,0,E,I]\n",
    "    score_mat[i][0] = score_mat[i-1][0]+ direc_mat[i-1][0][3]\n",
    "    \n",
    "#print_mat2(score_mat)"
   ]
  },
  {
   "cell_type": "markdown",
   "metadata": {},
   "source": [
    "## Calculate the score\n",
    "calculate the score according to the formula given"
   ]
  },
  {
   "cell_type": "code",
   "execution_count": 7,
   "metadata": {
    "collapsed": false
   },
   "outputs": [
    {
     "name": "stdout",
     "output_type": "stream",
     "text": [
      "77\n"
     ]
    }
   ],
   "source": [
    "def score2(mat):\n",
    "    for i in range(1, len(seq1) + 1):\n",
    "        for j in range(1, len(seq2) + 1):\n",
    "\n",
    "            t1 = score_mat[i - 1][j] + direc_mat[i-1][j][3]\n",
    "\n",
    "            t2 = score_mat[i][j - 1] +direc_mat[i][j-1][4]\n",
    "\n",
    "            t3 = score_mat[i - 1][j - 1] + mat.get(seq1[i - 1], seq2[j - 1])\n",
    "\n",
    "            maxscore = max(t1, t2, t3)\n",
    "            score_mat[i][j] = maxscore\n",
    "            if (t1 == maxscore):\n",
    "                direc_mat[i][j][1] = 1\n",
    "                # affine gap\n",
    "                direc_mat[i][j][3] = E\n",
    "            if (t2 == maxscore):\n",
    "                direc_mat[i][j][0] = 1\n",
    "                direc_mat[i][j][4] = E\n",
    "            if (t3 == maxscore):\n",
    "                direc_mat[i][j][2] = 1\n",
    "    return score_mat[len(seq1)][len(seq2)]\n",
    "\n",
    "print(score2(mat1))"
   ]
  },
  {
   "cell_type": "code",
   "execution_count": 8,
   "metadata": {
    "collapsed": false
   },
   "outputs": [],
   "source": [
    "# print out the direc_mat(direc_mat[i][j][:3])\n",
    "#print_mat3(direc_mat)"
   ]
  },
  {
   "cell_type": "markdown",
   "metadata": {},
   "source": [
    "## Trace back and print out the route\n",
    "- traceback accoording to the direc_mat and find path\n",
    "- the function traceback have one parameter k, which specify the maxmum subpath\n",
    "- the traceback function starts from the position[len(seq1)][len(seq2)] to [0][0]\n",
    "- use the broad first search, every time we go one step ,and we add all the poss"
   ]
  },
  {
   "cell_type": "code",
   "execution_count": 9,
   "metadata": {
    "collapsed": false
   },
   "outputs": [],
   "source": [
    "def traceback(k=4):\n",
    "    path_pair = []\n",
    "    path_up = []\n",
    "    path_down = []\n",
    "    mark1 =[]\n",
    "    mark2 =[]\n",
    "\n",
    "    # use queue to trace multiple path\n",
    "\n",
    "    queue = []\n",
    "    queue.append([path_up[0:len(path_up)], path_down[0:len(path_down)], len(seq1), len(seq2)])\n",
    "    while(len(queue)>0):\n",
    "        t = queue.pop(0)\n",
    "        i = t[2]\n",
    "        j = t[3]\n",
    "        path_up = t[0]\n",
    "        path_down=t[1]\n",
    "\n",
    "        if i ==0 or j ==0:\n",
    "            if j==0 and i ==0 :\n",
    "                path_pair.append([path_up,path_down])\n",
    "            elif i ==0:\n",
    "                for m in range(j+1,-1,-1):\n",
    "                    path_up.insert(0,'-')\n",
    "                    path_down.insert(0,seq2[m])\n",
    "                path_pair.append([path_up,path_down])\n",
    "            else:\n",
    "                for m in range(i+1,-1,-1):\n",
    "                    path_down.insert(0,'-')\n",
    "                    path_up.insert(0,seq1[m])\n",
    "                path_pair.append([path_up,path_down])\n",
    "        #scan all possible path and append it to the queue\n",
    "        else:\n",
    "            if direc_mat[i][j][0] == 1:\n",
    "                path_up.insert(0, '-')\n",
    "                j = j - 1\n",
    "\n",
    "                path_down.insert(0, seq2[j])\n",
    "                if len(queue)<k :\n",
    "                    queue.append([path_up[0:len(path_up)], path_down[0:len(path_down)], i, j])\n",
    "                j = j+1\n",
    "                path_up = path_up[1:]\n",
    "                path_down = path_down[1:]\n",
    "            if direc_mat[i][j][1] == 1:\n",
    "                path_down.insert(0, '-')\n",
    "                i = i - 1\n",
    "                path_up.insert(0, seq1[i])\n",
    "                if len(queue)<k :\n",
    "                    queue.append([path_up[0:len(path_up)], path_down[0:len(path_down)], i, j])\n",
    "                i = i+1\n",
    "                path_up = path_up[1:]\n",
    "                path_down = path_down[1:]\n",
    "\n",
    "            if direc_mat[i][j][2] == 1:\n",
    "                i = i - 1\n",
    "                j = j - 1\n",
    "                path_up.insert(0, seq1[i])\n",
    "                path_down.insert(0, seq2[j])\n",
    "\n",
    "                if len(queue)<k :\n",
    "                    queue.append([path_up[0:len(path_up)], path_down[0:len(path_down)], i, j])\n",
    "                i = i+1\n",
    "                j = j+1\n",
    "                path_up = path_up[1:]\n",
    "                path_down = path_down[1:]\n",
    "\n",
    "\n",
    "\n",
    "    return path_pair\n",
    "\n",
    "\n",
    "def print_pathpair(alist):\n",
    "    for path in alist:\n",
    "        mark1=[]\n",
    "        mark2=[]\n",
    "        for i in range(len(path[0])):\n",
    "            if path[0][i]!='-' and path[1][i]!='-':\n",
    "                if path[0][i] == path[1][i]:\n",
    "                    mark1.append(':')\n",
    "\n",
    "                elif mat1.get(path[0][i],path[1][i])>0:\n",
    "                    mark1.append('.')\n",
    "\n",
    "                else:\n",
    "                    mark1.append(' ')\n",
    "\n",
    "            else:\n",
    "                mark1.append(' ')\n",
    "\n",
    "\n",
    "        path_u = ''.join(path[0])\n",
    "        path_m = ''.join(mark1)\n",
    "\n",
    "\n",
    "        path_d = ''.join(path[1])\n",
    "\n",
    "\n",
    "        print(path_u)\n",
    "        print(path_m)\n",
    "        print(path_d)"
   ]
  },
  {
   "cell_type": "code",
   "execution_count": 10,
   "metadata": {
    "collapsed": false
   },
   "outputs": [
    {
     "name": "stdout",
     "output_type": "stream",
     "text": [
      "score: 77\n",
      "VPLPAGWEMAKTSSGQRYFLNHIDQTTTWQDPRK\n",
      " ::: :::  .   :. :..::  . : :. :  \n",
      "SPLPPGWEERQDILGRTYYVNHESRRTQWKRPTP\n"
     ]
    }
   ],
   "source": [
    "print(\"score:\",score2(mat1))\n",
    "print_pathpair(traceback(2))"
   ]
  },
  {
   "cell_type": "markdown",
   "metadata": {
    "collapsed": true
   },
   "source": [
    "![](https://ww3.sinaimg.cn/large/006tNbRwgy1fdo3f3fw9lj311i07sta7.jpg)\n",
    "the result and score given is exactly the same with the result in the website [LALIGN](http://embnet.vital-it.ch/software/LALIGN_form.html)"
   ]
  },
  {
   "cell_type": "markdown",
   "metadata": {},
   "source": [
    "## Put all sub function into one method\n",
    "- here for global method, we have the function fun(seq1,seq2,mat=mat1), this function encapsule all the sub function include score and traceback"
   ]
  },
  {
   "cell_type": "code",
   "execution_count": 11,
   "metadata": {
    "collapsed": false
   },
   "outputs": [],
   "source": [
    "def score2(mat,seq1,seq2,score_mat,direc_mat):\n",
    "    for i in range(1, len(seq1) + 1):\n",
    "        for j in range(1, len(seq2) + 1):\n",
    "\n",
    "            t1 = score_mat[i - 1][j] + direc_mat[i-1][j][3]\n",
    "\n",
    "            t2 = score_mat[i][j - 1] +direc_mat[i][j-1][4]\n",
    "\n",
    "            t3 = score_mat[i - 1][j - 1] + mat.get(seq1[i - 1], seq2[j - 1])\n",
    "\n",
    "            maxscore = max(t1, t2, t3)\n",
    "            score_mat[i][j] = maxscore\n",
    "            if (t1 == maxscore):\n",
    "                direc_mat[i][j][1] = 1\n",
    "                # affine gap\n",
    "                direc_mat[i][j][3] = E\n",
    "            if (t2 == maxscore):\n",
    "                direc_mat[i][j][0] = 1\n",
    "                direc_mat[i][j][4] = E\n",
    "            if (t3 == maxscore):\n",
    "                direc_mat[i][j][2] = 1\n",
    "    return score_mat[len(seq1)][len(seq2)]\n",
    "\n",
    "\n",
    "def print_mat2(alist):\n",
    "    for i in alist:\n",
    "        for j in i:\n",
    "            print('{0:4d}'.format(j), end=\" \")\n",
    "        print()\n",
    "\n",
    "\n",
    "def print_mat3(alist):\n",
    "    for i in alist:\n",
    "        print(i)\n",
    "\n",
    "\n",
    "def traceback(direc_mat,seq1,seq2,k=4):\n",
    "    path_pair = []\n",
    "    path_up = []\n",
    "    path_down = []\n",
    "    mark1 =[]\n",
    "    mark2 =[]\n",
    "    \n",
    "    queue = []\n",
    "    queue.append([path_up[0:len(path_up)], path_down[0:len(path_down)], len(seq1), len(seq2)])\n",
    "    while(len(queue)>0):\n",
    "        t = queue.pop(0)\n",
    "        i = t[2]\n",
    "        j = t[3]\n",
    "        path_up = t[0]\n",
    "        path_down=t[1]\n",
    "\n",
    "        if i ==0 or j ==0:\n",
    "            if j==0 and i ==0 :\n",
    "                path_pair.append([path_up,path_down])\n",
    "            elif i ==0:\n",
    "                for m in range(j+1,-1,-1):\n",
    "                    path_up.insert(0,'-')\n",
    "                    path_down.insert(0,seq2[m])\n",
    "                path_pair.append([path_up,path_down])\n",
    "            else:\n",
    "                for m in range(i+1,-1,-1):\n",
    "                    path_down.insert(0,'-')\n",
    "                    path_up.insert(0,seq1[m])\n",
    "                path_pair.append([path_up,path_down])\n",
    "        #scan all possible path and append it to the queue\n",
    "        else:\n",
    "            if direc_mat[i][j][0] == 1:\n",
    "                path_up.insert(0, '-')\n",
    "                j = j - 1\n",
    "\n",
    "                path_down.insert(0, seq2[j])\n",
    "                if len(queue)<k :\n",
    "                    queue.append([path_up[0:len(path_up)], path_down[0:len(path_down)], i, j])\n",
    "                j = j+1\n",
    "                path_up = path_up[1:]\n",
    "                path_down = path_down[1:]\n",
    "            if direc_mat[i][j][1] == 1:\n",
    "                path_down.insert(0, '-')\n",
    "                i = i - 1\n",
    "                path_up.insert(0, seq1[i])\n",
    "                if len(queue)<k :\n",
    "                    queue.append([path_up[0:len(path_up)], path_down[0:len(path_down)], i, j])\n",
    "                i = i+1\n",
    "                path_up = path_up[1:]\n",
    "                path_down = path_down[1:]\n",
    "\n",
    "            if direc_mat[i][j][2] == 1:\n",
    "                i = i - 1\n",
    "                j = j - 1\n",
    "                path_up.insert(0, seq1[i])\n",
    "                path_down.insert(0, seq2[j])\n",
    "\n",
    "                if len(queue)<k :\n",
    "                    queue.append([path_up[0:len(path_up)], path_down[0:len(path_down)], i, j])\n",
    "                i = i+1\n",
    "                j = j+1\n",
    "                path_up = path_up[1:]\n",
    "                path_down = path_down[1:]\n",
    "    return path_pair\n",
    "\n",
    "def fun(seq1,seq2):\n",
    "    score_mat = []\n",
    "    direc_mat = []\n",
    "    for i in range(len(seq1) + 1):\n",
    "        # default, opening gap\n",
    "        direc_mat.append([[0, 0, 0, I, I] for i in range(len(seq2) + 1)])\n",
    "\n",
    "    for i in range(len(seq1) + 1):\n",
    "        score_mat.append([0 for i in range(len(seq2) + 1)])\n",
    "    # initialize\n",
    "    score_mat[0][0] = 0\n",
    "\n",
    "    direc_mat[0][1] = [0, 1, 0, I, E]\n",
    "    score_mat[0][1] = I\n",
    "    direc_mat[1][0] = [1, 0, 0, E, I]\n",
    "    score_mat[1][0] = I\n",
    "\n",
    "    for i in range(2, len(seq2) + 1):\n",
    "        direc_mat[0][i] = [0, 1, 0, I, E]\n",
    "        score_mat[0][i] = score_mat[0][i - 1] + direc_mat[0][i - 1][4]\n",
    "    for i in range(2, len(seq1) + 1):\n",
    "        direc_mat[i][0] = [1, 0, 0, E, I]\n",
    "        score_mat[i][0] = score_mat[i - 1][0] + direc_mat[i - 1][0][3]\n",
    "\n",
    "    print(\"score:\",score2(mat1,seq1,seq2,score_mat,direc_mat))\n",
    "    print_pathpair(traceback(direc_mat,seq1,seq2))\n",
    "    print()"
   ]
  },
  {
   "cell_type": "markdown",
   "metadata": {},
   "source": [
    "## Align all sequence in the WW-sequence.fasta file"
   ]
  },
  {
   "cell_type": "code",
   "execution_count": 12,
   "metadata": {
    "collapsed": false
   },
   "outputs": [
    {
     "name": "stdout",
     "output_type": "stream",
     "text": [
      "score: 77\n",
      "VPLPAGWEMAKTSSGQRYFLNHIDQTTTWQDPRK\n",
      " ::: :::  .   :. :..::  . : :. :  \n",
      "SPLPPGWEERQDILGRTYYVNHESRRTQWKRPTP\n",
      "\n",
      "score: 84\n",
      "VPLPAGWEMAKTSSGQRYFLNHIDQTTTWQDPRK\n",
      " ::: :::    . :. ...::  . : :.::: \n",
      "GPLPPGWEERTHTDGRIFYINHNIKRTQWEDPRL\n",
      "VPLPAGWEMAKT-SSGQRYFLNHIDQTTTWQDPRK\n",
      " ::: :::  .: . :. ...::  . : :.::: \n",
      "GPLPPGWE-ERTHTDGRIFYINHNIKRTQWEDPRL\n",
      "\n",
      "score: 75\n",
      "VPLPAGWEMAKT-SSGQRYFLNHIDQTTTWQDPRK\n",
      "  :: :::   . :::. :. :::   . :. :  \n",
      "EKLPPGWEKRMSRSSGRVYYFNHITNASQWERPSG\n",
      "VPLPAGWE--MAKTSSGQRYFLNHIDQTTTWQDPRK\n",
      "  :: :::  :.. :::. :. :::   . :. :  \n",
      "EKLPPGWEKRMSR-SSGRVYYFNHITNASQWERPSG\n",
      "\n",
      "score: 40\n",
      "VPLPAGWEMAKTSSGQRYFLNHIDQTTTWQDPRK\n",
      "    . :   :.  :. :. :   . .::. :  \n",
      "SGAKSMWTEHKSPDGRTYYYNTETKQSTWEKPDD\n",
      "\n",
      "score: 45\n",
      "VPLPAGWEMAKTSSGQRYFLNHIDQTTTWQDPRK\n",
      ".     :.  :. ::. :. :   . . :  :..\n",
      "LLSKCPWKEYKSDSGKPYYYNSQTKESRWAKPKE\n",
      "\n",
      "score: 115\n",
      "SPLPPGWEERQDILGRTYYVNHESRRTQWKRPTP\n",
      " :::::::::    :: .:.::  .::::. :  \n",
      "GPLPPGWEERTHTDGRIFYINHNIKRTQWEDPRL\n",
      "\n",
      "score: 99\n",
      "SPLPPGWEERQD-ILGRTYYVNHESRRTQWKRPTP\n",
      "  ::::::.:     :: :: :: .  .::.::. \n",
      "EKLPPGWEKRMSRSSGRVYYFNHITNASQWERPSG\n",
      "\n",
      "score: 66\n",
      "SPLPPGWEERQDILGRTYYVNHESRRTQWKRPTP\n",
      ":     : : .   ::::: : :.... :..:  \n",
      "SGAKSMWTEHKSPDGRTYYYNTETKQSTWEKPDD\n",
      "\n",
      "score: 49\n",
      "----SPLPPGWEERQDILGRTYYVNHESRRTQWKRPTP\n",
      "    :  :  :.: .   :. :: : ... ..: .:  \n",
      "LLSKSKCP--WKEYKSDSGKPYYYNSQTKESRWAKPKE\n",
      "----SPLPPGWEE-RQDILGRTYYVNHESRRTQWKRPTP\n",
      "    :  :  :.: . :  :. :: : ... ..: .:  \n",
      "LLSKSKCP--WKEYKSDS-GKPYYYNSQTKESRWAKPKE\n",
      "----SPLPPGWEE-RQDILGRTYYVNHESRRTQWKRPTP\n",
      "    :  :  :.: . :  :. :: : ... ..: .:  \n",
      "LLSKSKCP--WKEYKSD-SGKPYYYNSQTKESRWAKPKE\n",
      "SPLP-PGWEERQDILGRTYYVNHESRRTQWKRPTP\n",
      "     : :.: .   :. :: : ... ..: .:  \n",
      "LLSKCP-WKEYKSDSGKPYYYNSQTKESRWAKPKE\n",
      "\n",
      "score: 94\n",
      "GPLPPGWEER-THTDGRIFYINHNIKRTQWEDPRL\n",
      "  ::::::.: . . ::..: ::    .::: :  \n",
      "EKLPPGWEKRMSRSSGRVYYFNHITNASQWERPSG\n",
      "\n",
      "score: 54\n",
      "GPLPPGWEERTHTDGRIFYINHNIKRTQWEDPRL\n",
      "      : :    ::: .: :   :.. :: :  \n",
      "SGAKSMWTEHKSPDGRTYYYNTETKQSTWEKPDD\n",
      "\n",
      "score: 37\n",
      "GPLPLPP-GWEERTHTDGRIFYINHNIKRTQWEDPRL\n",
      "    :    :.:     :. .: :   : ..:  :. \n",
      "---LLSKCPWKEYKSDSGKPYYYNSQTKESRWAKPKE\n",
      "GPLPPGWEERTHTDGRIFYINHNIKRTQWEDPRL\n",
      "      :.:     :. .: :   : ..:  :. \n",
      "LLSKCPWKEYKSDSGKPYYYNSQTKESRWAKPKE\n",
      "GPLP-PGWEERTHTDGRIFYINHNIKRTQWEDPRL\n",
      "     : :.:     :. .: :   : ..:  :. \n",
      "LLSKCP-WKEYKSDSGKPYYYNSQTKESRWAKPKE\n",
      "G-PLPPGWEERTHTDGRIFYINHNIKRTQWEDPRL\n",
      "     : :.:     :. .: :   : ..:  :. \n",
      "LLSKCP-WKEYKSDSGKPYYYNSQTKESRWAKPKE\n",
      "\n",
      "score: 59\n",
      "EKLPPGWEKRMSRSSGRVYYFNHITNASQWERPSG\n",
      "      : .  :   :: ::.:  :  : ::.:  \n",
      "SGAKSMWTEHKS-PDGRTYYYNTETKQSTWEKPDD\n",
      "\n",
      "score: 54\n",
      "----EKLPPGWEKRMSRSSGRVYYFNHITNASQWERPSG\n",
      "     : :  :..  :  ::. ::.:  :  :.: .:  \n",
      "LLSKSKCP--WKEYKS-DSGKPYYYNSQTKESRWAKPKE\n",
      "----EKLPPGWEKRMSRSSGRVYYFNHITNASQWERPSG\n",
      "     :  : :..  :  ::. ::.:  :  :.: .:  \n",
      "LLSKSKC-P-WKEYKS-DSGKPYYYNSQTKESRWAKPKE\n",
      "----EKLPPGWEKRMSRSSGRVYYFNHITNASQWERPSG\n",
      "     : :  : :     ::. ::.:  :  :.: .:  \n",
      "LLSKSKCP--W-KEYKSDSGKPYYYNSQTKESRWAKPKE\n",
      "----EKLPPGWEKRMSRSSGRVYYFNHITNASQWERPSG\n",
      "     :  : : :     ::. ::.:  :  :.: .:  \n",
      "LLSKSKC-P-W-KEYKSDSGKPYYYNSQTKESRWAKPKE\n",
      "\n",
      "score: 97\n",
      "SGAKSMWTEHKSPDGRTYYYNTETKQSTWEKPDD\n",
      "  .:  : :.::  :. ::::..::.: : :: .\n",
      "LLSKCPWKEYKSDSGKPYYYNSQTKESRWAKPKE\n",
      "\n"
     ]
    }
   ],
   "source": [
    "# align all ww-sequence \n",
    "for i in range(len(seq_list)):\n",
    "    for j in range(i+1,len(seq_list)):\n",
    "        fun(seq_list[i],seq_list[j])"
   ]
  },
  {
   "cell_type": "markdown",
   "metadata": {},
   "source": [
    "the sequence : >sp|P46934|892-925  and  >sp|P46934|610-643\n",
    "\n",
    "score: 115        \n",
    "SPLPPGWEERQDILGRTYYVNHESRRTQWKRPTP               \n",
    "GPLPPGWEERTHTDGRIFYINHNIKRTQWEDPRL\n",
    "\n",
    "gives the maximum score 115. \n",
    "\n",
    "They are from the same protein\n",
    "![](https://ww2.sinaimg.cn/large/006tNbRwgy1fdo7kl0i2pj31340e2acl.jpg)"
   ]
  },
  {
   "cell_type": "code",
   "execution_count": null,
   "metadata": {
    "collapsed": true
   },
   "outputs": [],
   "source": [
    ""
   ]
  },
  {
   "cell_type": "code",
   "execution_count": null,
   "metadata": {
    "collapsed": true
   },
   "outputs": [],
   "source": [
    ""
   ]
  }
 ],
 "metadata": {
  "celltoolbar": "Edit Metadata",
  "kernelspec": {
   "display_name": "Python 3",
   "language": "python",
   "name": "python3"
  },
  "language_info": {
   "codemirror_mode": {
    "name": "ipython",
    "version": 3.0
   },
   "file_extension": ".py",
   "mimetype": "text/x-python",
   "name": "python",
   "nbconvert_exporter": "python",
   "pygments_lexer": "ipython3",
   "version": "3.6.0"
  }
 },
 "nbformat": 4,
 "nbformat_minor": 0
}